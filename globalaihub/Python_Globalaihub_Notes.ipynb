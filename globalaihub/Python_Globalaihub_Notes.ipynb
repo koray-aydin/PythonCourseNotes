{
  "cells": [
    {
      "attachments": {},
      "cell_type": "markdown",
      "metadata": {
        "id": "tXxhgTHoxILH"
      },
      "source": [
        "\n",
        "Introduction to Python\n",
        "https://globalaihub.com/courses/introduction-to-python/\n",
        "globalaihub\n",
        "\n",
        "Curriculum\n",
        "*   Python syntax essentials\n",
        "*   Flow controls\n",
        "*   Functions\n",
        "*   Data structures\n",
        "*   Files and errors\n",
        "*   Wrap up"
      ]
    },
    {
      "cell_type": "code",
      "execution_count": null,
      "metadata": {
        "id": "Ln_NW55VsUmq"
      },
      "outputs": [],
      "source": [
        "help()"
      ]
    },
    {
      "cell_type": "code",
      "execution_count": null,
      "metadata": {
        "id": "Phjgqqg2tFUp"
      },
      "outputs": [],
      "source": [
        "fav_number = 12\n",
        "if fav_number < 15:\n",
        "    print(\"My favourite number is smaller than 15\")"
      ]
    },
    {
      "cell_type": "code",
      "execution_count": null,
      "metadata": {
        "id": "4asTzDwHtIGE"
      },
      "outputs": [],
      "source": [
        "pi = 3.14\n",
        "print(pi)"
      ]
    },
    {
      "cell_type": "code",
      "execution_count": null,
      "metadata": {
        "id": "Y1AvUg4UveVm"
      },
      "outputs": [],
      "source": [
        "def greetings(name):\n",
        "    print('Hello, {name}')"
      ]
    },
    {
      "cell_type": "code",
      "execution_count": 1,
      "metadata": {
        "colab": {
          "base_uri": "https://localhost:8080/"
        },
        "id": "SypG2fP4vqfm",
        "outputId": "a797e371-2176-4573-df99-06a4696af7e0"
      },
      "outputs": [
        {
          "name": "stdout",
          "output_type": "stream",
          "text": [
            "Deniz\n",
            "25\n",
            "<class 'str'>\n",
            "<class 'int'>\n"
          ]
        }
      ],
      "source": [
        "name = 'Deniz'\n",
        "age = 25\n",
        "print(name)\n",
        "print(age)\n",
        "print(type(name))\n",
        "print(type(age))"
      ]
    },
    {
      "cell_type": "code",
      "execution_count": null,
      "metadata": {
        "id": "9-uux5zAv6Ys"
      },
      "outputs": [],
      "source": [
        "import math\n",
        "floor_number = (math.floor(3.45))\n",
        "print(floor_number, type(floor_number))"
      ]
    },
    {
      "cell_type": "code",
      "execution_count": null,
      "metadata": {
        "id": "XnDjzpdAv_ao"
      },
      "outputs": [],
      "source": [
        "import datetime\n",
        "\n",
        "print(datetime.datetime.now())"
      ]
    },
    {
      "cell_type": "code",
      "execution_count": null,
      "metadata": {
        "id": "3ndH-ZefwA91"
      },
      "outputs": [],
      "source": [
        "import random\n",
        "\n",
        "print(random.randint(1,6))"
      ]
    },
    {
      "cell_type": "code",
      "execution_count": null,
      "metadata": {
        "id": "AD9C7RCVwHse"
      },
      "outputs": [],
      "source": [
        "print(\"5 + 2 =\", 5+2)\n",
        "print(\"5 - 2 =\", 5-2)\n",
        "print(\"5 * 2 =\", 5*2)\n",
        "print(\"5 / 2 =\", 5/2)\n",
        "print(\"5 // 2 =\", 5//2)\n",
        "print(\"5 ** 2 =\", 5**2)\n",
        "print(\"5 % 2 =\", 5%2)\n",
        "\n",
        "''''\n",
        "x = 5 # equivalent to x = 5\n",
        "x += 5 # equivalent to x = x + 5\n",
        "x -= 5 # equivalent to x = x - 5\n",
        "x *= 5 # equivalent to x = x * 5\n",
        "x /= 5 # equivalent to x = x / 5\n",
        "x %= 5 # equivalent to x = x % 5\n",
        "x //= 5 # equivalent to x = x // 5\n",
        "x **= 5 # equivalent to x = x ** 5\n",
        "''''"
      ]
    },
    {
      "cell_type": "code",
      "execution_count": null,
      "metadata": {
        "id": "75sDOmNqwdD7"
      },
      "outputs": [],
      "source": [
        "num1 = 10\n",
        "num2 = 5\n",
        "\n",
        "print(num1, \">\", num2, \"=\", num1 > num2)\n",
        "print(num1, \">=\", num2, \"=\", num1 >= num2)\n",
        "print(num1, \"<\", num2, \"=\", num1 < num2)\n",
        "print(num1, \"<=\", num2, \"=\", num1 <= num2)\n",
        "print(num1, \"==\", num2, \"=\", num1 == num2)\n",
        "print(num1, \"!=\", num2, \"=\", num1 != num2)\n",
        "\n",
        "x = 2\n",
        "y = 1\n",
        "x *= y + 1 \n",
        "print(x)"
      ]
    },
    {
      "cell_type": "code",
      "execution_count": null,
      "metadata": {
        "id": "Mp5NlKZmwgLS"
      },
      "outputs": [],
      "source": [
        "print(\"True and True =\", True and True)\n",
        "print(\"True and False =\", True and False)\n",
        "print(\"False and True =\", False and True)\n",
        "print(\"False and False =\", False and False)\n",
        "\n",
        "\n",
        "print(\"True or True =\", True or True)\n",
        "print(\"True or False =\", True or False)\n",
        "print(\"False or True =\", False or True)\n",
        "print(\"False or False =\", False or False)\n",
        "\n",
        "\n",
        "print(\"not True =\", not True)\n",
        "print(\"not False =\", not False)"
      ]
    },
    {
      "cell_type": "code",
      "execution_count": null,
      "metadata": {
        "id": "dHkeiyDUxFCO"
      },
      "outputs": [],
      "source": [
        "''''\n",
        "celsius = 25\n",
        "if celsius > 20:\n",
        "  print('Good 🟩')\n",
        "''''\n",
        "\n",
        "  celsius = 18\n",
        "if celsius > 20:\n",
        "  print('Good 🟩')\n",
        "else:\n",
        "  print('Cold ❄️')\n",
        "\n",
        "\n",
        "  drivers_licence = True\n",
        "age = 17\n",
        " \n",
        "if age > 17:\n",
        "    if drivers_licence:\n",
        "        print('You can drive car')\n",
        "    else:\n",
        "        print('You need to go to a drivers licence course')\n",
        "else:\n",
        "    print('You need to get older')"
      ]
    },
    {
      "cell_type": "code",
      "execution_count": null,
      "metadata": {
        "id": "BRzV6NWsxYRO"
      },
      "outputs": [],
      "source": [
        "volcano_name = 'Eyjafjallajökull'\n",
        " \n",
        "for i in volcano_name:\n",
        "  print(i)\n",
        "print('Loop is completed')\n",
        "\n",
        "\n",
        "numbers = [1, 2, 3, 4, 5, 6, 7, 8, 9,10]\n",
        "for i in numbers:\n",
        "  print(i)\n",
        " \n",
        "print('Loop is completed')\n",
        "\n",
        "\n",
        "for i in range(5,21):\n",
        "  print(i)\n",
        "print('Loop is completed')\n",
        "\n",
        "\n",
        "for i in range(1,101):\n",
        "  if i % 5 == 0:\n",
        "    print(i)\n",
        " \n",
        "print('Loop has been completed')"
      ]
    },
    {
      "cell_type": "code",
      "execution_count": null,
      "metadata": {
        "id": "yW5WHCJw2lUj"
      },
      "outputs": [],
      "source": [
        "celcius = 10\n",
        " \n",
        "while celcius < 50:\n",
        " \n",
        "  if celcius > 30:\n",
        "    print('Hot 🔥')\n",
        "  elif 30 >= celcius > 20:\n",
        "    print('Good 🟩')\n",
        "  elif -273 < celcius <= 20:              \n",
        "    print('Cold ❄️')\n",
        "  else:\n",
        "    print('Something went wrong!')\n",
        "  print('The current temperature is',celcius)\n",
        "  celcius += 5"
      ]
    },
    {
      "cell_type": "code",
      "execution_count": null,
      "metadata": {
        "id": "88ioNeP_3HxF"
      },
      "outputs": [],
      "source": [
        "import random\n",
        "while True:\n",
        " \n",
        "    random_number = random.randrange(1000)\n",
        "    print(random_number)\n",
        " \n",
        "    if random_number == 777:\n",
        "        print('Found!')\n",
        "        break\n",
        "\n",
        "\n",
        "names = ['Max', 'Felix', 'Deniz', 'Selin', 'Lucas', 26, 'Sarah']\n",
        " \n",
        "for name in names:\n",
        " \n",
        "    if type(name) != str:\n",
        "        print('Found', name)\n",
        "        break\n",
        " \n",
        "    else:\n",
        "        print(name, 'is a string!')"
      ]
    },
    {
      "cell_type": "code",
      "execution_count": null,
      "metadata": {
        "id": "WG3u9YUy4v1m"
      },
      "outputs": [],
      "source": [
        "\"\"\" \n",
        "Please creat test.py file before continue to run the following\n",
        "code cells.You can right click in the files segment of the colab\n",
        "and create new file.\n",
        "\"\"\"\n",
        "\n",
        "# write following method in the test.py file\n",
        "\n",
        "\"\"\" \n",
        "test.py module\n",
        "This is a test module to print a message to the screen\n",
        "\"\"\"\n",
        "def greetings(name):\n",
        "  print('Hello', name)\n",
        "\n",
        "''''\n",
        "  import test\n",
        "\n",
        "  !pip install seaborn\n",
        "\n",
        "  import seaborn as sns\n",
        "\n",
        "  import seaborn as sns\n",
        " \n",
        "data = [1, 2, 10, 3, 5, 6, 13]\n",
        "\n",
        "sns.lineplot(range(7), data)\n",
        "''''\n"
      ]
    },
    {
      "cell_type": "code",
      "execution_count": 3,
      "metadata": {
        "colab": {
          "base_uri": "https://localhost:8080/",
          "height": 130
        },
        "id": "LXKi4GPX5zOK",
        "outputId": "455d6cc0-17e4-493a-cc10-2cb4c0a304fa"
      },
      "outputs": [
        {
          "ename": "IndentationError",
          "evalue": "ignored",
          "output_type": "error",
          "traceback": [
            "\u001b[0;36m  File \u001b[0;32m\"<tokenize>\"\u001b[0;36m, line \u001b[0;32m9\u001b[0m\n\u001b[0;31m    if auto_correction == True:\u001b[0m\n\u001b[0m    ^\u001b[0m\n\u001b[0;31mIndentationError\u001b[0m\u001b[0;31m:\u001b[0m unindent does not match any outer indentation level\n"
          ]
        }
      ],
      "source": [
        "def argument_printer(arg_position1, arg_position2):\n",
        "   print('Argument at position 1:', arg_position1)\n",
        "   print('Argument at position 2:', arg_position2)\n",
        "\n",
        "   argument_printer('value 1', 'value 2')\n",
        "\n",
        "\n",
        "   def greetings(first_name, last_name, auto_correction):\n",
        "  if auto_correction == True:\n",
        "    capitalized_first_name = first_name.capitalize()\n",
        "    capitalized_last_name = last_name.capitalize() \n",
        "    print(\"Hello,\", capitalized_first_name, capitalized_last_name) \n",
        "  else: \n",
        "    print(\"Hello,\", first_name, last_name)\n",
        "\n",
        "greetings('deNiZ', 'kaYa', True)\n",
        "greetings('deNiZ', 'kaYa', False)\n",
        "\n",
        "\n",
        "\n",
        "def car(brand, model, colour):\n",
        "    print('My favourite car is the', brand, model, 'in the colour', colour)\n",
        "\n",
        "car('Audi', 'R8', 'black')\n",
        "car(colour = 'black', model = 'R8', brand = 'Audi')\n",
        "car(colour = 'Audi', model = 'R8', 'black')\n",
        "\n",
        "\n",
        "number = 13 #Global Variable\n",
        " \n",
        "def change_number():\n",
        " number = 4 #Local Variable\n",
        " \n",
        "change_number()\n",
        "print(number)\n",
        "\n",
        "\n",
        "number = 13\n",
        " \n",
        "def change_number():\n",
        " global number \n",
        " number = 4\n",
        " \n",
        "change_number()\n",
        "print(number)"
      ]
    },
    {
      "cell_type": "code",
      "execution_count": null,
      "metadata": {
        "id": "itmjnogy6ZGc"
      },
      "outputs": [],
      "source": [
        "def sum(number1, number2):\n",
        "  print(number1 + number2)\n",
        "\n",
        "result = sum(3, 5)\n",
        "print(result)"
      ]
    },
    {
      "cell_type": "code",
      "execution_count": null,
      "metadata": {
        "id": "qO1yNtIy7toX"
      },
      "outputs": [],
      "source": [
        "shopping_list = [\"Apple\", \"Juice\", \"Ball\", \"Book\"]\n",
        "shopping_list.append(\"Water\")\n",
        "print(shopping_list)\n",
        "shopping_list.insert(2,\"Banana\")\n",
        "print(shopping_list)\n",
        "shopping_list.remove(\"Apple\")\n",
        "print(shopping_list)\n",
        "shopping_list[3] = \"Strawberry\"\n",
        "print(shopping_list)\n",
        "\n",
        "print(shopping_list[0])\n",
        "print(shopping_list[1:3])\n",
        "\n",
        "\n",
        "\n",
        "number_list = [1,2,3,4,5]\n",
        "square_list = []\n",
        "for num in number_list:\n",
        "  square_list.append(num**2)\n",
        "\n",
        "print(square_list)\n",
        "\n",
        "number_list = [1,2,3,4,5]\n",
        "square_list = [num ** 2 for num in number_list]\n",
        "\n",
        "print(square_list)\n",
        "\n"
      ]
    },
    {
      "cell_type": "code",
      "execution_count": 4,
      "metadata": {
        "colab": {
          "base_uri": "https://localhost:8080/"
        },
        "id": "yUYm0M-Y8Kqn",
        "outputId": "24e65d13-6901-439e-aa42-198729401e4b"
      },
      "outputs": [
        {
          "name": "stdout",
          "output_type": "stream",
          "text": [
            "{'Deniz Kaya': '+90 505 123 45 67', 'Selin Demir': '+49 157 12345678', 'Ali Can': '+1 234 235 5678'}\n",
            "+90 505 123 45 67\n",
            "{'bananas': 25, 'apples': 102, 'oranges': 54, 'watermelons': 4}\n",
            "102\n"
          ]
        }
      ],
      "source": [
        "phone_book = {'Deniz Kaya':'+90 505 123 45 67', 'Selin Demir': '+49 157 12345678', 'Ali Can':'+1 234 235 5678'}\n",
        "print(phone_book)\n",
        "print(phone_book['Deniz Kaya'])\n",
        "inventory = dict()\n",
        "inventory['bananas'] = 25\n",
        "inventory['apples'] = 102\n",
        "inventory['oranges'] = 54\n",
        "inventory['watermelons'] = 4\n",
        "print(inventory)\n",
        "print(inventory['apples'])\n",
        "print(inventory.keys())\n",
        "print(inventory.values())\n",
        "print(inventory.items())\n",
        "\n",
        "for element in inventory:\n",
        "  print(element)\n",
        "\n",
        "for key in inventory:\n",
        "  inventory[key] += 100\n",
        "print(inventory) \n",
        "\n",
        "for key, value in inventory.items():\n",
        "    if value > 200:\n",
        "        print('Too many', key)\n",
        "    else:\n",
        "        print('Enough', key)"
      ]
    },
    {
      "cell_type": "code",
      "execution_count": null,
      "metadata": {
        "id": "ghFcMIUV84Dy"
      },
      "outputs": [],
      "source": [
        "# Navigate to message.txt’s directory\n",
        "%cd /content/file_operations\n",
        "\n",
        "# opens hello.txt text file in the current directory\n",
        "message_file = open(\"message.txt\")\n",
        "\n",
        "# specifying the full path\n",
        "message_file = open(\"/content/file_operations/message.txt\")\n",
        "\n",
        "message_file = open(\"message.txt\", \"r\")\n",
        "\n",
        "content = message_file.read()\n",
        "message_file.close()\n",
        "\n",
        "print(content)\n",
        "\n",
        "hello_file = open(\"hello.txt\", \"w\")\n",
        "\n",
        "hello_file.write('Hello world, this is Python')\n",
        "hello_file.close()\n",
        "\n",
        "###\n",
        "###\n",
        "​​import random\n",
        "while True:\n",
        "\n",
        "  random_number = random.randrange(1000)\n",
        "  print(random_number)\n",
        " \n",
        "  if random_number == 777:\n",
        "    print('Found!')\n",
        "    break\n",
        "###\n",
        "###\n",
        "\n",
        "###\n",
        "###\n",
        "import random\n",
        " \n",
        "numbers_file = open('number_history.txt', 'w')\n",
        " \n",
        "while True:\n",
        " \n",
        "  random_number = random.randrange(1000)\n",
        "  print(random_number)\n",
        "  numbers_file.write(str(random_number))\n",
        "  numbers_file.write('\\n')\n",
        " \n",
        "  if random_number == 777:\n",
        "    print('Found!')\n",
        "    numbers_file.write('Found!')\n",
        "    numbers_file.close()\n",
        "    break\n",
        "###\n",
        "###\n",
        "\n",
        "###\n",
        "###\n",
        "import random\n",
        " \n",
        "with open('number_history.txt', 'w') as numbers_file:\n",
        " \n",
        "  while True:\n",
        "\n",
        "    random_number = random.randrange(1000)\n",
        "    print(random_number)\n",
        "    numbers_file.write(str(random_number))\n",
        "    numbers_file.write('\\n')\n",
        " \n",
        "    if random_number == 777:\n",
        "      print('Found!')\n",
        "      numbers_file.write('Found!')\n",
        "      break\n",
        "###\n",
        "###"
      ]
    },
    {
      "cell_type": "code",
      "execution_count": null,
      "metadata": {
        "id": "df-x-_UI_K4G"
      },
      "outputs": [],
      "source": [
        "number1= 15\n",
        "number2 = input('Please enter a Number: ')\n",
        "print(number1 + number2)\n",
        "\n",
        "celsius = 18\n",
        "if celsius > 20:\n",
        "  print('Good 🟩')\n",
        "  else:\n",
        "    print('Cold ❄️')\n",
        "\n",
        "###\n",
        "def divide(number1, number2):\n",
        "   try:\n",
        "       number1_integer = int(number1)\n",
        "       number2_integer = int(number2)\n",
        "       return number1_integer / number2_integer\n",
        "  \n",
        "   except ValueError:\n",
        "       return 'Only integers are allowed!'\n",
        " \n",
        "   except ZeroDivisionError:\n",
        "       return 'You cannot divide any number by zero!'\n",
        "\n",
        "\n",
        "\n",
        "number1 = input('Please provide a number1: ')\n",
        "number2 = input('Please provide a number2: ')\n",
        " \n",
        "print(divide(number1, number2))\n",
        "###"
      ]
    },
    {
      "cell_type": "markdown",
      "metadata": {
        "id": "-R3l84fhsXe1"
      },
      "source": [
        "Practical exercise 2: You are a game developer :)\n",
        "In this practical exercise you are a game developer. You will program your first game – Rock, Paper, Scissors.\n",
        "\n",
        "If you are not familiar with the game, you can read about it here: https://en.wikipedia.org/wiki/Rock_paper_scissors.\n",
        "\n",
        "You will program the game step by step. Please read the instructions carefully. There are hints and important explanations that will help you with this exercise.\n",
        "\n",
        "### **Use a while loop to specify the number of rounds**\n",
        "\n",
        " \n",
        "Now the game runs infinitely and the user can end it manually. But there is a more efficient way to do this: Let's ask the user again how many rounds they want to play, just as you did for the game inside the for loop.\n",
        "\n",
        "To prevent an infinite loop, you need to add a round_counter that is 0 at the beginning. In each round, this counter needs to increase by 1.\n",
        "\n",
        "At the end of your while loop, you need to add an \"if\" condition to check whether the round_counter is equal to the number of rounds that we got from user as an input. If this is the case, we need to use \"break\" to end the game.\n",
        "\n",
        "Once we end the game, it would be nice to see a message that prints the winner to the screen. In case of a tie, it should print a message that the game ended in a tie.\n",
        "\n",
        "📌 You can use \"if\" and \"elif\" statements to determine the winner at the end.\n"
      ]
    },
    {
      "cell_type": "code",
      "execution_count": null,
      "metadata": {
        "id": "ZhfgEVu7tjK-"
      },
      "outputs": [],
      "source": [
        "#Collect all the components of your program to run it in a while loop\n",
        "#Import the random library\n",
        "import random\n",
        "\n",
        "#Add the code to create a list containing the three actions of the game.\n",
        "action_list = ['rock', 'paper', 'scissors']\n",
        "\n",
        "#Add the code to set the scores of players to 0\n",
        "player1_score = 0\n",
        "player2_score = 0\n",
        "#Add a round_counter that is 0 at the beginning\n",
        "round_counter = 0\n",
        "\n",
        "#Add the code to ask the user how many rounds they want to play\n",
        "total_round = input(\"How many rounds do you want to play? \")\n",
        "\n",
        "#Write a while loop and put the game inside\n",
        "while True:\n",
        "\n",
        "  #increase round_counter by 1 and print it\n",
        "  round_counter +=1\n",
        "  print(\"Round number:\", round_counter)\n",
        "\n",
        "  #Add the code to select a random action for each player\n",
        "  player1_choice = random.choice(action_list)\n",
        "  player2_choice = action_list[random.randint(0,2)]\n",
        "\n",
        "  #Add the code to print the players choices\n",
        "  print(\"Player1:\", player1_choice)\n",
        "  print(\"Player2:\", player2_choice)\n",
        "\n",
        "  #Add the tie condition\n",
        "  if player1_choice == player2_choice:\n",
        "    print(\"Tie! Both player chose same action.\")\n",
        "\n",
        "  #Add the remaining condition\n",
        "  elif player1_choice == 'paper':\n",
        "    if player2_choice == 'rock':\n",
        "      print(\"Winner is: Player 1\")\n",
        "      player1_score +=1\n",
        "    else:\n",
        "      print(\"Winner is: Player 2\")\n",
        "      player2_score +=1\n",
        "\n",
        "  elif player1_choice == 'rock':\n",
        "    if player2_choice == 'paper':\n",
        "      print(\"Winner is: Player 2\")\n",
        "      player2_score +=1\n",
        "    else:\n",
        "      print(\"Winner is: Player 1\")\n",
        "      player1_score +=1\n",
        "\n",
        "  elif player1_choice == 'scissors':\n",
        "    if player2_choice == 'paper':\n",
        "      print(\"Winner is: Player 1\")\n",
        "      player1_score +=1\n",
        "    else:\n",
        "      print(\"Winner is: Player 2\")\n",
        "      player2_score +=1\n",
        "\n",
        "  #print the score\n",
        "  print(\"Score:\", \"Player1 =\",player1_score, \"Player2 =\",player2_score)\n",
        "\n",
        "  #stop the while loop if the round_counter equals the number of total rounds\n",
        "  if round_counter == int(total_round):\n",
        "    break\n",
        "#Print the outcome of the game by using conditional statements\n",
        "if player1_score == player2_score:\n",
        "  print(\"There is no winner, tie.\")\n",
        "elif player1_score > player2_score:\n",
        "  print(\"Player 1 won with score\", player1_score, \":\", player2_score)\n",
        "elif player1_score < player2_score:\n",
        "  print(\"Player 2 won with score\", player1_score, \":\", player2_score)   "
      ]
    },
    {
      "cell_type": "markdown",
      "metadata": {
        "id": "IW66lERlufk-"
      },
      "source": [
        "Practical exercise 4: Your own supermarket\n",
        "In this practical exercise, you are the owner of a supermarket.\n",
        "\n",
        "🛒 You will program an online shop to sell different types of items.\n",
        "\n",
        "Please read the instructions carefully. There are hints and important explanations that will help you with this exercise.\n",
        "\n",
        "\n",
        "Set up the online shop\n",
        "So, now that you have a gained some experience, let's start with our main exercise!\n",
        "\n",
        "Of course, you first need to add all the items that will be available in your online shop.\n",
        "\n",
        "📌Create a dictionary for your inventory. For each item the key should be the name and the value should be a list containing price, stock, and section.\n",
        "\n",
        "📌📌 Your dictionary should follow this structure:\n",
        "\n",
        "\n",
        "Your first client is here\n",
        "Now that your inverntory is set up, your first client visits the shop. Let's take a peak in their shopping list.\n",
        "\n",
        "📌 As we did in the warm up, let's create a shopping list for your first client with tuples for each item. This time, each tuple should consist of the item and the amount that they want to purchase.\n",
        "\n",
        "The list should follow this structure:\n",
        "\n",
        "\n",
        "What happens next?\n",
        "Everytime a customer wants to purchase something from your online shop, a few steps have to be taken. Here are the functions that will make your online shop work.\n",
        "\n",
        "(1) Check the stock\n",
        "First, you have to make sure that you have sufficient stock of each item in your inventory.\n",
        "\n",
        "check_stock\n",
        "Define a function to check the stock quantity of the items in your shopping list. The function should take your shopping list and inventory as an argument. If there is not enough stock, the amount in your shopping list should be updated to the highest amount possible.\n",
        "\n",
        "💣 To start, create an empty shopping list, in which the items and their updated amounts will be written in as tuples. Remember that we cannot update them because tuples are immutable.\n",
        "\n",
        "📌 You can use a for loop to iterate over each item inside the shopping list.\n",
        "\n",
        "📌 You can then unpack the tuples to access each item and amount separately.\n",
        "\n",
        "📌 To access the available stock in your inventory dictionary, use the item as a key, then the corresponding index in the values list and check if there is enough stock.\n",
        "\n",
        "📌 The print function can help you to inform the client which items are out of stock and what the available amount is.\n",
        "\n",
        "📌 Update the amount if necessary and append the item and amount to your updated shopping list."
      ]
    },
    {
      "cell_type": "code",
      "execution_count": null,
      "metadata": {
        "id": "esmczfngwjeh"
      },
      "outputs": [],
      "source": [
        "#Please create a shopping list\n",
        "shopping_list = ['milk', 'apples', 'oranges', 'potatoes', 'bread']\n",
        "\n",
        "#Use the append method to add bananas to your list\n",
        "shopping_list.append('bananas')\n",
        "#Print your shopping list\n",
        "print(shopping_list)\n",
        "\n",
        "#Use insert method to add onions at a specific position in your list\n",
        "shopping_list.insert(2,'onions')\n",
        "\n",
        "#Print your shopping list\n",
        "print(shopping_list)\n",
        "\n",
        "#Use the remove method to remove potatoes from the list\n",
        "shopping_list.remove('potatoes')\n",
        "#Print your shopping list\n",
        "print(shopping_list)\n",
        "\n",
        "#Expand your list by adding tuples for each item\n",
        "shopping_list = [('milk', 'dairy'), ('apples', 'fruits'), ('onions', 'vegetables'), ('oranges', 'fruits'), ('bread','bakery'), ('bananas', 'fruits')]\n",
        "\n",
        "#Use for loop to iterate over list and get each tuple for unpacking\n",
        "for element in shopping_list:\n",
        "  #unpack the tuple into item and section variables \n",
        "  item, section = element\n",
        "  #print the message\n",
        "  print(\"You can find the\",item,\"in the\",section,\"section.\")\n",
        "\n",
        "  #Create a dictionary which contains the item as key and the section as value\n",
        "shopping_list = {'milk':'dairy', 'apples':'fruits', 'onions':'vegetables', 'oranges':'fruits', 'bread':'bakery', 'bananas':'fruits'}\n",
        "\n",
        "#Print the keys\n",
        "print(shopping_list.keys())\n",
        "\n",
        "#Print the values\n",
        "print(shopping_list.values())\n",
        "\n",
        "#Print the key/value pairs\n",
        "print(shopping_list.items())\n",
        "\n",
        "\n",
        "\n",
        "#Create a dictionary for your inventory\n",
        "\n",
        "inventory = {'Milk':[4,1000,'dairy'],\n",
        "             \n",
        "             'Apples':[2,3,'fruits'],\n",
        "\n",
        "             'Onions':[1,50,'vegetables'],\n",
        "\n",
        "             'Oranges':[1.5,1000,'fruits'],\n",
        "\n",
        "             'Bread':[3,100,'bakery'],\n",
        "\n",
        "             'Bananas':[5,300,'fruits']}  \n",
        "\n",
        "\n",
        "\n",
        "#Create a shopping list that specifies how much of each item you want to purchase\n",
        "shopping_list = [('milk',1), ('apples',4), ('onions', 5), ('oranges',5), ('bread',2), ('bananas',10)]\n",
        "\n",
        "\n",
        "#Define the check_stock function\n",
        "def check_stock(shopping_list, inventory):\n",
        "  #Create the empty shopping_list_updated\n",
        "  updated_shopping_list = []\n",
        "  #Write a for loop to iterate over each item in your shopping list\n",
        "  for element in shopping_list:\n",
        "    item, amount = element\n",
        "    #Access the available stock in your inventory\n",
        "    inventory_value = inventory[item]\n",
        "    if amount > inventory_value[1]:\n",
        "      amount = inventory_value[1]\n",
        "      print(\"We dont have enough stock of\", item,\"you can buy a maximum amount of\",inventory_value[1])\n",
        "    #append item and amount to your updated shopping list\n",
        "    updated_shopping_list.append((item,amount))\n",
        "  return updated_shopping_list\n",
        "\n",
        "\n",
        "\n",
        "\n",
        "\n",
        "\n",
        "#Define the compute_bill function\n",
        "def compute_bill(updated_shopping_list, inventory):\n",
        "  #Create a bill variable that equals 0\n",
        "  bill = 0\n",
        "  #Write a for loop to iterate over each item in your updated shopping list\n",
        "  for element in updated_shopping_list:\n",
        "    item, amount = element\n",
        "    #access the price in your inventory\n",
        "    inventory_value= inventory[item]\n",
        "    #Compute the price and add it to the bill\n",
        "    bill += inventory_value[0] * amount\n",
        "  return bill\n",
        "\n",
        "\n",
        "\n",
        "\n",
        "\n",
        "\n",
        "\n",
        "#Define the update_stock function \n",
        "def update_stock(updated_shopping_list, inventory):\n",
        "  #Write a for loop to iterate over each item in your updated shopping list\n",
        "  for element in updated_shopping_list:\n",
        "    item, amount = element\n",
        "    #access the stock in your inventory\n",
        "    inventory_value = inventory[item]\n",
        "    #Decrease the stock by the amount that was purchased\n",
        "    inventory_value[1] = inventory_value[1] - amount\n",
        "  \n",
        "  return inventory\n",
        "\n",
        "\n",
        "#Call check_stock function for your shopping list\n",
        "updated_shopping_list = check_stock(shopping_list, inventory)\n",
        "print(\"Your updated shopping list:\", updated_shopping_list)\n",
        "\n",
        "\n",
        "#Call the compute_bill function for your updated shopping list\n",
        "bill = compute_bill(updated_shopping_list, inventory)\n",
        "print(\"Total price:\",bill,\"$\")\n",
        "\n",
        "\n",
        "#Call the update_stock function for your updated shopping list\n",
        "new_inventory = update_stock(updated_shopping_list, inventory)\n",
        "print(\"The inventory was updated:\", new_inventory)\n"
      ]
    }
  ],
  "metadata": {
    "colab": {
      "provenance": []
    },
    "kernelspec": {
      "display_name": "Python 3",
      "name": "python3"
    },
    "language_info": {
      "name": "python"
    }
  },
  "nbformat": 4,
  "nbformat_minor": 0
}
